{
 "cells": [
  {
   "cell_type": "code",
   "execution_count": 1,
   "metadata": {},
   "outputs": [],
   "source": [
    "import os\n",
    "\n",
    "WORK_DIR = '/home/lishi/workspace/MAAF/'\n",
    "os.chdir(WORK_DIR)\n",
    "\n",
    "import torch\n",
    "from torch import nn\n",
    "import torch.nn.functional as F\n",
    "from torchvision import transforms\n",
    "from torchvision.datasets import MNIST\n",
    "from torch.utils.data import DataLoader, random_split\n",
    "import pytorch_lightning as pl\n",
    "\n",
    "from demo_utils import get_preserved_opt\n",
    "from datasets.datasets import load_dataset\n"
   ]
  },
  {
   "cell_type": "code",
   "execution_count": 2,
   "metadata": {},
   "outputs": [
    {
     "name": "stdout",
     "output_type": "stream",
     "text": [
      "Reading dataset  fashioniq\n",
      "0  files not found in  train\n",
      "0  files not found in  val\n",
      "0  files not found in  test\n",
      "train size 45429\n",
      "val size 15415\n",
      "test size 15417\n"
     ]
    }
   ],
   "source": [
    "opt = get_preserved_opt()\n",
    "dataset_dict = load_dataset(opt)"
   ]
  },
  {
   "cell_type": "code",
   "execution_count": 4,
   "metadata": {},
   "outputs": [
    {
     "data": {
      "text/plain": [
       "18000"
      ]
     },
     "execution_count": 4,
     "metadata": {},
     "output_type": "execute_result"
    }
   ],
   "source": [
    "len(dataset_dict['train'].queries)"
   ]
  },
  {
   "cell_type": "code",
   "execution_count": 3,
   "metadata": {},
   "outputs": [
    {
     "name": "stderr",
     "output_type": "stream",
     "text": [
      "ftfy or spacy is not installed using BERT BasicTokenizer instead of ftfy.\n"
     ]
    }
   ],
   "source": [
    "from transformers import CLIPProcessor, CLIPModel\n",
    "model = CLIPModel.from_pretrained(\"openai/clip-vit-base-patch32\")\n",
    "processor = CLIPProcessor.from_pretrained(\"openai/clip-vit-base-patch32\")"
   ]
  },
  {
   "cell_type": "code",
   "execution_count": 4,
   "metadata": {},
   "outputs": [],
   "source": [
    "train_dataset = dataset_dict['train']\n",
    "train_dataloader = train_dataset.get_loader(\n",
    "    batch_size=opt.batch_size,\n",
    "    shuffle=False,\n",
    "    drop_last=True,\n",
    "    num_workers=opt.loader_num_workers\n",
    ")"
   ]
  },
  {
   "cell_type": "code",
   "execution_count": 5,
   "metadata": {},
   "outputs": [],
   "source": [
    "for data in train_dataloader:\n",
    "    batch = data\n",
    "    break"
   ]
  },
  {
   "cell_type": "code",
   "execution_count": 6,
   "metadata": {},
   "outputs": [],
   "source": [
    "ref_imgs = [sample['source_img_data'] for sample in batch]\n",
    "tgt_imgs = [sample['target_img_data'] for sample in batch]\n",
    "mod_strs = [str(sample['mod']['str']) for sample in batch]\n",
    "ref_imgs = processor(images=ref_imgs, return_tensors='pt')\n",
    "tgt_imgs = processor(images=tgt_imgs, return_tensors='pt')\n",
    "mod_strs = processor(text=mod_strs, return_tensors='pt', padding=True)"
   ]
  },
  {
   "cell_type": "code",
   "execution_count": 15,
   "metadata": {},
   "outputs": [],
   "source": [
    "def contrastive_loss(logits: torch.Tensor) -> torch.Tensor:\n",
    "    return nn.functional.cross_entropy(logits, torch.arange(len(logits), device=logits.device))\n",
    "\n",
    "\n",
    "def clip_loss(similarity: torch.Tensor) -> torch.Tensor:\n",
    "    caption_loss = contrastive_loss(similarity)\n",
    "    image_loss = contrastive_loss(similarity.T)\n",
    "    return (caption_loss + image_loss) / 2.0"
   ]
  },
  {
   "cell_type": "code",
   "execution_count": 16,
   "metadata": {},
   "outputs": [],
   "source": [
    "text_features = model.get_text_features(input_ids=mod_strs['input_ids'], attention_mask=mod_strs['attention_mask'])\n",
    "ref_imgs_features = model.get_image_features(pixel_values=ref_imgs['pixel_values'])\n",
    "tgt_imgs_features = model.get_image_features(pixel_values=tgt_imgs['pixel_values'])\n",
    "\n",
    "# normalize\n",
    "text_features = text_features / text_features.norm(dim=-1, keepdim=True)\n",
    "ref_imgs_features = ref_imgs_features / ref_imgs_features.norm(dim=-1, keepdim=True)\n",
    "tgt_imgs_features = tgt_imgs_features / tgt_imgs_features.norm(dim=-1, keepdim=True)\n",
    "\n",
    "# compose reference image feature and modifciation text feature\n",
    "mod_imgs_features = (text_features + ref_imgs_features) / 2\n",
    "\n",
    "# cosine similarity as logits\n",
    "logit_scale = model.logit_scale.exp()\n",
    "logits_per_ref = torch.matmul(mod_imgs_features, tgt_imgs_features.t()) * logit_scale\n",
    "\n",
    "loss = clip_loss(logits_per_ref)"
   ]
  },
  {
   "cell_type": "code",
   "execution_count": null,
   "metadata": {},
   "outputs": [],
   "source": [
    "class InteractiveCLIP(pl.LightningModule):\n",
    "    def __init__(self):\n",
    "        super().__init__()\n",
    "        self.processor = CLIPProcessor.from_pretrained(\"openai/clip-vit-base-patch32\")\n",
    "        self.clip = CLIPModel.from_pretrained(\"openai/clip-vit-base-patch32\")\n",
    "        self.compose_choice = 'mean'\n",
    "\n",
    "    def forward(self, x):\n",
    "        # in lightning, forward defines the prediction/inference actions\n",
    "        # embedding = self.encoder(x)\n",
    "        # return embeddinga\n",
    "        pass\n",
    "\n",
    "    def training_step(self, batch, batch_idx):\n",
    "        \n",
    "        def _contrastive_loss(logits: torch.Tensor) -> torch.Tensor:\n",
    "            return nn.functional.cross_entropy(logits, torch.arange(len(logits), device=logits.device))\n",
    "\n",
    "        def _clip_loss(similarity: torch.Tensor) -> torch.Tensor:\n",
    "            ref_loss = contrastive_loss(similarity)\n",
    "            tgt_loss = contrastive_loss(similarity.T)\n",
    "            return (ref_loss + tgt_loss) / 2.0\n",
    "        \n",
    "        ref_imgs = [sample['source_img_data'] for sample in batch]\n",
    "        tgt_imgs = [sample['target_img_data'] for sample in batch]\n",
    "        mod_strs = [str(sample['mod']['str']) for sample in batch]\n",
    "        ref_imgs = processor(images=ref_imgs, return_tensors='pt')\n",
    "        tgt_imgs = processor(images=tgt_imgs, return_tensors='pt')\n",
    "        mod_strs = processor(text=mod_strs, return_tensors='pt', padding=True)\n",
    "        \n",
    "        text_features = model.get_text_features(input_ids=mod_strs['input_ids'], attention_mask=mod_strs['attention_mask'])\n",
    "        ref_imgs_features = model.get_image_features(pixel_values=ref_imgs['pixel_values'])\n",
    "        tgt_imgs_features = model.get_image_features(pixel_values=tgt_imgs['pixel_values'])\n",
    "        \n",
    "        # normalize\n",
    "        text_features = text_features / text_features.norm(dim=-1, keepdim=True)\n",
    "        ref_imgs_features = ref_imgs_features / ref_imgs_features.norm(dim=-1, keepdim=True)\n",
    "        tgt_imgs_features = tgt_imgs_features / tgt_imgs_features.norm(dim=-1, keepdim=True)\n",
    "        \n",
    "        # compose reference image feature and modifciation text feature\n",
    "        if (self.compose_choice==\"mean\"):\n",
    "            mod_imgs_features = (text_features + ref_imgs_features) / 2\n",
    "\n",
    "        # cosine similarity as logits\n",
    "        logit_scale = model.logit_scale.exp()\n",
    "        logits_per_ref = torch.matmul(mod_imgs_features, tgt_imgs_features.t()) * logit_scale\n",
    "\n",
    "        loss = _clip_loss(logits_per_ref)\n",
    "        \n",
    "        return loss\n",
    "        \n",
    "    def configure_optimizers(self):\n",
    "        optimizer = torch.optim.Adam(self.parameters(), lr=1e-4)\n",
    "        return optimizer"
   ]
  }
 ],
 "metadata": {
  "interpreter": {
   "hash": "e176c6d79c0f249012007130b3cb6651ed41566e8ddbd3de897224def6ffdc22"
  },
  "kernelspec": {
   "display_name": "Python 3.6.13 ('maaf')",
   "language": "python",
   "name": "python3"
  },
  "language_info": {
   "codemirror_mode": {
    "name": "ipython",
    "version": 3
   },
   "file_extension": ".py",
   "mimetype": "text/x-python",
   "name": "python",
   "nbconvert_exporter": "python",
   "pygments_lexer": "ipython3",
   "version": "3.6.13"
  },
  "orig_nbformat": 4
 },
 "nbformat": 4,
 "nbformat_minor": 2
}
